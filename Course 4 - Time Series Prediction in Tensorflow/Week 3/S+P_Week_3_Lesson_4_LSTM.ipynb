{
  "nbformat": 4,
  "nbformat_minor": 0,
  "metadata": {
    "colab": {
      "name": "S+P Week 3 Lesson 4 - LSTM.ipynb",
      "provenance": [],
      "collapsed_sections": [],
      "toc_visible": true
    },
    "kernelspec": {
      "display_name": "Python 3",
      "name": "python3"
    }
  },
  "cells": [
    {
      "cell_type": "code",
      "metadata": {
        "id": "zX4Kg8DUTKWO",
        "colab_type": "code",
        "colab": {}
      },
      "source": [
        "#@title Licensed under the Apache License, Version 2.0 (the \"License\");\n",
        "# you may not use this file except in compliance with the License.\n",
        "# You may obtain a copy of the License at\n",
        "#\n",
        "# https://www.apache.org/licenses/LICENSE-2.0\n",
        "#\n",
        "# Unless required by applicable law or agreed to in writing, software\n",
        "# distributed under the License is distributed on an \"AS IS\" BASIS,\n",
        "# WITHOUT WARRANTIES OR CONDITIONS OF ANY KIND, either express or implied.\n",
        "# See the License for the specific language governing permissions and\n",
        "# limitations under the License."
      ],
      "execution_count": null,
      "outputs": []
    },
    {
      "cell_type": "code",
      "metadata": {
        "colab_type": "code",
        "id": "D1J15Vh_1Jih",
        "colab": {}
      },
      "source": [
        "!pip install tf-nightly-2.0-preview\n"
      ],
      "execution_count": null,
      "outputs": []
    },
    {
      "cell_type": "code",
      "metadata": {
        "colab_type": "code",
        "id": "BOjujz601HcS",
        "colab": {
          "base_uri": "https://localhost:8080/",
          "height": 34
        },
        "outputId": "84df0f27-e7d8-4e3b-a576-83586a484237"
      },
      "source": [
        "import tensorflow as tf\n",
        "import numpy as np\n",
        "import matplotlib.pyplot as plt\n",
        "print(tf.__version__)"
      ],
      "execution_count": 1,
      "outputs": [
        {
          "output_type": "stream",
          "text": [
            "2.2.0\n"
          ],
          "name": "stdout"
        }
      ]
    },
    {
      "cell_type": "code",
      "metadata": {
        "colab_type": "code",
        "id": "Zswl7jRtGzkk",
        "colab": {}
      },
      "source": [
        "def plot_series(time, series, format=\"-\", start=0, end=None):\n",
        "    plt.plot(time[start:end], series[start:end], format)\n",
        "    plt.xlabel(\"Time\")\n",
        "    plt.ylabel(\"Value\")\n",
        "    plt.grid(True)\n",
        "\n",
        "def trend(time, slope=0):\n",
        "    return slope * time\n",
        "\n",
        "def seasonal_pattern(season_time):\n",
        "    \"\"\"Just an arbitrary pattern, you can change it if you wish\"\"\"\n",
        "    return np.where(season_time < 0.4,\n",
        "                    np.cos(season_time * 2 * np.pi),\n",
        "                    1 / np.exp(3 * season_time))\n",
        "\n",
        "def seasonality(time, period, amplitude=1, phase=0):\n",
        "    \"\"\"Repeats the same pattern at each period\"\"\"\n",
        "    season_time = ((time + phase) % period) / period\n",
        "    return amplitude * seasonal_pattern(season_time)\n",
        "\n",
        "def noise(time, noise_level=1, seed=None):\n",
        "    rnd = np.random.RandomState(seed)\n",
        "    return rnd.randn(len(time)) * noise_level\n",
        "\n",
        "time = np.arange(4 * 365 + 1, dtype=\"float32\")\n",
        "baseline = 10\n",
        "series = trend(time, 0.1)  \n",
        "baseline = 10\n",
        "amplitude = 40\n",
        "slope = 0.05\n",
        "noise_level = 5\n",
        "\n",
        "# Create the series\n",
        "series = baseline + trend(time, slope) + seasonality(time, period=365, amplitude=amplitude)\n",
        "# Update with noise\n",
        "series += noise(time, noise_level, seed=42)\n",
        "\n",
        "split_time = 1000\n",
        "time_train = time[:split_time]\n",
        "x_train = series[:split_time]\n",
        "time_valid = time[split_time:]\n",
        "x_valid = series[split_time:]\n",
        "\n",
        "window_size = 20\n",
        "batch_size = 32\n",
        "shuffle_buffer_size = 1000"
      ],
      "execution_count": 2,
      "outputs": []
    },
    {
      "cell_type": "code",
      "metadata": {
        "colab_type": "code",
        "id": "4sTTIOCbyShY",
        "colab": {}
      },
      "source": [
        "def windowed_dataset(series, window_size, batch_size, shuffle_buffer):\n",
        "  dataset = tf.data.Dataset.from_tensor_slices(series)\n",
        "  dataset = dataset.window(window_size + 1, shift=1, drop_remainder=True)\n",
        "  dataset = dataset.flat_map(lambda window: window.batch(window_size + 1))\n",
        "  dataset = dataset.shuffle(shuffle_buffer).map(lambda window: (window[:-1], window[-1]))\n",
        "  dataset = dataset.batch(batch_size).prefetch(1)\n",
        "  return dataset"
      ],
      "execution_count": 3,
      "outputs": []
    },
    {
      "cell_type": "code",
      "metadata": {
        "colab_type": "code",
        "id": "A1Hl39rklkLm",
        "colab": {
          "base_uri": "https://localhost:8080/",
          "height": 1000
        },
        "outputId": "118033b5-bbfc-40f7-c8a8-708b32931c4f"
      },
      "source": [
        "tf.keras.backend.clear_session()\n",
        "tf.random.set_seed(51)\n",
        "np.random.seed(51)\n",
        "\n",
        "tf.keras.backend.clear_session()\n",
        "dataset = windowed_dataset(x_train, window_size, batch_size, shuffle_buffer_size)\n",
        "\n",
        "model = tf.keras.models.Sequential([\n",
        "  tf.keras.layers.Lambda(lambda x: tf.expand_dims(x, axis=-1),\n",
        "                      input_shape=[None]),\n",
        "    tf.keras.layers.Bidirectional(tf.keras.layers.LSTM(32, return_sequences=True)),\n",
        "  tf.keras.layers.Bidirectional(tf.keras.layers.LSTM(32)),\n",
        "  tf.keras.layers.Dense(1),\n",
        "  tf.keras.layers.Lambda(lambda x: x * 100.0)\n",
        "])\n",
        "\n",
        "lr_schedule = tf.keras.callbacks.LearningRateScheduler(\n",
        "    lambda epoch: 1e-8 * 10**(epoch / 20))\n",
        "optimizer = tf.keras.optimizers.SGD(lr=1e-8, momentum=0.9)\n",
        "model.compile(loss=tf.keras.losses.Huber(),\n",
        "              optimizer=optimizer,\n",
        "              metrics=[\"mae\"])\n",
        "history = model.fit(dataset, epochs=100, callbacks=[lr_schedule])"
      ],
      "execution_count": 4,
      "outputs": [
        {
          "output_type": "stream",
          "text": [
            "Epoch 1/100\n",
            "31/31 [==============================] - 1s 26ms/step - loss: 21.5167 - mae: 22.0115 - lr: 1.0000e-08\n",
            "Epoch 2/100\n",
            "31/31 [==============================] - 1s 25ms/step - loss: 21.1522 - mae: 21.6444 - lr: 1.1220e-08\n",
            "Epoch 3/100\n",
            "31/31 [==============================] - 1s 24ms/step - loss: 20.7302 - mae: 21.2236 - lr: 1.2589e-08\n",
            "Epoch 4/100\n",
            "31/31 [==============================] - 1s 24ms/step - loss: 20.2834 - mae: 20.7757 - lr: 1.4125e-08\n",
            "Epoch 5/100\n",
            "31/31 [==============================] - 1s 25ms/step - loss: 19.7897 - mae: 20.2855 - lr: 1.5849e-08\n",
            "Epoch 6/100\n",
            "31/31 [==============================] - 1s 24ms/step - loss: 19.1782 - mae: 19.6696 - lr: 1.7783e-08\n",
            "Epoch 7/100\n",
            "31/31 [==============================] - 1s 25ms/step - loss: 18.2410 - mae: 18.7333 - lr: 1.9953e-08\n",
            "Epoch 8/100\n",
            "31/31 [==============================] - 1s 25ms/step - loss: 17.4825 - mae: 17.9748 - lr: 2.2387e-08\n",
            "Epoch 9/100\n",
            "31/31 [==============================] - 1s 24ms/step - loss: 17.1597 - mae: 17.6529 - lr: 2.5119e-08\n",
            "Epoch 10/100\n",
            "31/31 [==============================] - 1s 25ms/step - loss: 16.8547 - mae: 17.3463 - lr: 2.8184e-08\n",
            "Epoch 11/100\n",
            "31/31 [==============================] - 1s 25ms/step - loss: 16.5533 - mae: 17.0471 - lr: 3.1623e-08\n",
            "Epoch 12/100\n",
            "31/31 [==============================] - 1s 24ms/step - loss: 16.2565 - mae: 16.7524 - lr: 3.5481e-08\n",
            "Epoch 13/100\n",
            "31/31 [==============================] - 1s 25ms/step - loss: 15.9629 - mae: 16.4598 - lr: 3.9811e-08\n",
            "Epoch 14/100\n",
            "31/31 [==============================] - 1s 24ms/step - loss: 15.6593 - mae: 16.1548 - lr: 4.4668e-08\n",
            "Epoch 15/100\n",
            "31/31 [==============================] - 1s 24ms/step - loss: 15.3713 - mae: 15.8652 - lr: 5.0119e-08\n",
            "Epoch 16/100\n",
            "31/31 [==============================] - 1s 25ms/step - loss: 15.0752 - mae: 15.5697 - lr: 5.6234e-08\n",
            "Epoch 17/100\n",
            "31/31 [==============================] - 1s 24ms/step - loss: 14.7905 - mae: 15.2869 - lr: 6.3096e-08\n",
            "Epoch 18/100\n",
            "31/31 [==============================] - 1s 25ms/step - loss: 14.5229 - mae: 15.0178 - lr: 7.0795e-08\n",
            "Epoch 19/100\n",
            "31/31 [==============================] - 1s 25ms/step - loss: 14.2707 - mae: 14.7636 - lr: 7.9433e-08\n",
            "Epoch 20/100\n",
            "31/31 [==============================] - 1s 24ms/step - loss: 14.0293 - mae: 14.5217 - lr: 8.9125e-08\n",
            "Epoch 21/100\n",
            "31/31 [==============================] - 1s 24ms/step - loss: 13.8191 - mae: 14.3135 - lr: 1.0000e-07\n",
            "Epoch 22/100\n",
            "31/31 [==============================] - 1s 24ms/step - loss: 13.6084 - mae: 14.1032 - lr: 1.1220e-07\n",
            "Epoch 23/100\n",
            "31/31 [==============================] - 1s 25ms/step - loss: 13.4096 - mae: 13.9038 - lr: 1.2589e-07\n",
            "Epoch 24/100\n",
            "31/31 [==============================] - 1s 25ms/step - loss: 13.1859 - mae: 13.6794 - lr: 1.4125e-07\n",
            "Epoch 25/100\n",
            "31/31 [==============================] - 1s 25ms/step - loss: 12.9819 - mae: 13.4747 - lr: 1.5849e-07\n",
            "Epoch 26/100\n",
            "31/31 [==============================] - 1s 25ms/step - loss: 12.7278 - mae: 13.2184 - lr: 1.7783e-07\n",
            "Epoch 27/100\n",
            "31/31 [==============================] - 1s 25ms/step - loss: 12.4886 - mae: 12.9799 - lr: 1.9953e-07\n",
            "Epoch 28/100\n",
            "31/31 [==============================] - 1s 24ms/step - loss: 12.3459 - mae: 12.8362 - lr: 2.2387e-07\n",
            "Epoch 29/100\n",
            "31/31 [==============================] - 1s 25ms/step - loss: 11.9127 - mae: 12.4017 - lr: 2.5119e-07\n",
            "Epoch 30/100\n",
            "31/31 [==============================] - 1s 26ms/step - loss: 11.5934 - mae: 12.0835 - lr: 2.8184e-07\n",
            "Epoch 31/100\n",
            "31/31 [==============================] - 1s 24ms/step - loss: 11.2859 - mae: 11.7771 - lr: 3.1623e-07\n",
            "Epoch 32/100\n",
            "31/31 [==============================] - 1s 24ms/step - loss: 11.3520 - mae: 11.8418 - lr: 3.5481e-07\n",
            "Epoch 33/100\n",
            "31/31 [==============================] - 1s 25ms/step - loss: 10.5232 - mae: 11.0140 - lr: 3.9811e-07\n",
            "Epoch 34/100\n",
            "31/31 [==============================] - 1s 25ms/step - loss: 10.5483 - mae: 11.0364 - lr: 4.4668e-07\n",
            "Epoch 35/100\n",
            "31/31 [==============================] - 1s 25ms/step - loss: 10.0639 - mae: 10.5494 - lr: 5.0119e-07\n",
            "Epoch 36/100\n",
            "31/31 [==============================] - 1s 26ms/step - loss: 10.5303 - mae: 11.0200 - lr: 5.6234e-07\n",
            "Epoch 37/100\n",
            "31/31 [==============================] - 1s 25ms/step - loss: 10.1915 - mae: 10.6815 - lr: 6.3096e-07\n",
            "Epoch 38/100\n",
            "31/31 [==============================] - 1s 26ms/step - loss: 9.6502 - mae: 10.1381 - lr: 7.0795e-07\n",
            "Epoch 39/100\n",
            "31/31 [==============================] - 1s 25ms/step - loss: 9.1531 - mae: 9.6376 - lr: 7.9433e-07\n",
            "Epoch 40/100\n",
            "31/31 [==============================] - 1s 25ms/step - loss: 8.7075 - mae: 9.1934 - lr: 8.9125e-07\n",
            "Epoch 41/100\n",
            "31/31 [==============================] - 1s 24ms/step - loss: 8.2888 - mae: 8.7743 - lr: 1.0000e-06\n",
            "Epoch 42/100\n",
            "31/31 [==============================] - 1s 25ms/step - loss: 7.9466 - mae: 8.4313 - lr: 1.1220e-06\n",
            "Epoch 43/100\n",
            "31/31 [==============================] - 1s 25ms/step - loss: 7.6212 - mae: 8.1052 - lr: 1.2589e-06\n",
            "Epoch 44/100\n",
            "31/31 [==============================] - 1s 26ms/step - loss: 7.3689 - mae: 7.8547 - lr: 1.4125e-06\n",
            "Epoch 45/100\n",
            "31/31 [==============================] - 1s 26ms/step - loss: 7.1997 - mae: 7.6829 - lr: 1.5849e-06\n",
            "Epoch 46/100\n",
            "31/31 [==============================] - 1s 25ms/step - loss: 6.8836 - mae: 7.3661 - lr: 1.7783e-06\n",
            "Epoch 47/100\n",
            "31/31 [==============================] - 1s 24ms/step - loss: 6.6758 - mae: 7.1594 - lr: 1.9953e-06\n",
            "Epoch 48/100\n",
            "31/31 [==============================] - 1s 25ms/step - loss: 6.5791 - mae: 7.0609 - lr: 2.2387e-06\n",
            "Epoch 49/100\n",
            "31/31 [==============================] - 1s 26ms/step - loss: 6.2076 - mae: 6.6838 - lr: 2.5119e-06\n",
            "Epoch 50/100\n",
            "31/31 [==============================] - 1s 25ms/step - loss: 6.0389 - mae: 6.5179 - lr: 2.8184e-06\n",
            "Epoch 51/100\n",
            "31/31 [==============================] - 1s 25ms/step - loss: 5.9099 - mae: 6.3876 - lr: 3.1623e-06\n",
            "Epoch 52/100\n",
            "31/31 [==============================] - 1s 25ms/step - loss: 5.7769 - mae: 6.2586 - lr: 3.5481e-06\n",
            "Epoch 53/100\n",
            "31/31 [==============================] - 1s 25ms/step - loss: 5.6296 - mae: 6.1098 - lr: 3.9811e-06\n",
            "Epoch 54/100\n",
            "31/31 [==============================] - 1s 25ms/step - loss: 5.5207 - mae: 5.9948 - lr: 4.4668e-06\n",
            "Epoch 55/100\n",
            "31/31 [==============================] - 1s 25ms/step - loss: 5.3915 - mae: 5.8635 - lr: 5.0119e-06\n",
            "Epoch 56/100\n",
            "31/31 [==============================] - 1s 25ms/step - loss: 5.5568 - mae: 6.0306 - lr: 5.6234e-06\n",
            "Epoch 57/100\n",
            "31/31 [==============================] - 1s 25ms/step - loss: 5.2790 - mae: 5.7568 - lr: 6.3096e-06\n",
            "Epoch 58/100\n",
            "31/31 [==============================] - 1s 26ms/step - loss: 5.2576 - mae: 5.7360 - lr: 7.0795e-06\n",
            "Epoch 59/100\n",
            "31/31 [==============================] - 1s 25ms/step - loss: 5.1189 - mae: 5.5976 - lr: 7.9433e-06\n",
            "Epoch 60/100\n",
            "31/31 [==============================] - 1s 25ms/step - loss: 5.0482 - mae: 5.5221 - lr: 8.9125e-06\n",
            "Epoch 61/100\n",
            "31/31 [==============================] - 1s 24ms/step - loss: 5.3073 - mae: 5.7862 - lr: 1.0000e-05\n",
            "Epoch 62/100\n",
            "31/31 [==============================] - 1s 25ms/step - loss: 5.2209 - mae: 5.7006 - lr: 1.1220e-05\n",
            "Epoch 63/100\n",
            "31/31 [==============================] - 1s 25ms/step - loss: 5.0224 - mae: 5.4971 - lr: 1.2589e-05\n",
            "Epoch 64/100\n",
            "31/31 [==============================] - 1s 24ms/step - loss: 4.8378 - mae: 5.3121 - lr: 1.4125e-05\n",
            "Epoch 65/100\n",
            "31/31 [==============================] - 1s 25ms/step - loss: 5.2828 - mae: 5.7625 - lr: 1.5849e-05\n",
            "Epoch 66/100\n",
            "31/31 [==============================] - 1s 25ms/step - loss: 5.3684 - mae: 5.8518 - lr: 1.7783e-05\n",
            "Epoch 67/100\n",
            "31/31 [==============================] - 1s 25ms/step - loss: 6.1172 - mae: 6.5999 - lr: 1.9953e-05\n",
            "Epoch 68/100\n",
            "31/31 [==============================] - 1s 25ms/step - loss: 5.2448 - mae: 5.7288 - lr: 2.2387e-05\n",
            "Epoch 69/100\n",
            "31/31 [==============================] - 1s 25ms/step - loss: 5.4579 - mae: 5.9387 - lr: 2.5119e-05\n",
            "Epoch 70/100\n",
            "31/31 [==============================] - 1s 25ms/step - loss: 4.8784 - mae: 5.3517 - lr: 2.8184e-05\n",
            "Epoch 71/100\n",
            "31/31 [==============================] - 1s 25ms/step - loss: 5.8512 - mae: 6.3328 - lr: 3.1623e-05\n",
            "Epoch 72/100\n",
            "31/31 [==============================] - 1s 24ms/step - loss: 5.7091 - mae: 6.1906 - lr: 3.5481e-05\n",
            "Epoch 73/100\n",
            "31/31 [==============================] - 1s 25ms/step - loss: 6.5024 - mae: 6.9855 - lr: 3.9811e-05\n",
            "Epoch 74/100\n",
            "31/31 [==============================] - 1s 25ms/step - loss: 5.1171 - mae: 5.5983 - lr: 4.4668e-05\n",
            "Epoch 75/100\n",
            "31/31 [==============================] - 1s 25ms/step - loss: 5.4665 - mae: 5.9459 - lr: 5.0119e-05\n",
            "Epoch 76/100\n",
            "31/31 [==============================] - 1s 26ms/step - loss: 5.5865 - mae: 6.0675 - lr: 5.6234e-05\n",
            "Epoch 77/100\n",
            "31/31 [==============================] - 1s 25ms/step - loss: 6.6011 - mae: 7.0869 - lr: 6.3096e-05\n",
            "Epoch 78/100\n",
            "31/31 [==============================] - 1s 25ms/step - loss: 5.3414 - mae: 5.8222 - lr: 7.0795e-05\n",
            "Epoch 79/100\n",
            "31/31 [==============================] - 1s 25ms/step - loss: 5.3523 - mae: 5.8316 - lr: 7.9433e-05\n",
            "Epoch 80/100\n",
            "31/31 [==============================] - 1s 25ms/step - loss: 5.1324 - mae: 5.6126 - lr: 8.9125e-05\n",
            "Epoch 81/100\n",
            "31/31 [==============================] - 1s 25ms/step - loss: 7.2442 - mae: 7.7277 - lr: 1.0000e-04\n",
            "Epoch 82/100\n",
            "31/31 [==============================] - 1s 24ms/step - loss: 5.2931 - mae: 5.7740 - lr: 1.1220e-04\n",
            "Epoch 83/100\n",
            "31/31 [==============================] - 1s 24ms/step - loss: 6.1063 - mae: 6.5905 - lr: 1.2589e-04\n",
            "Epoch 84/100\n",
            "31/31 [==============================] - 1s 25ms/step - loss: 8.0418 - mae: 8.5283 - lr: 1.4125e-04\n",
            "Epoch 85/100\n",
            "31/31 [==============================] - 1s 25ms/step - loss: 6.0476 - mae: 6.5356 - lr: 1.5849e-04\n",
            "Epoch 86/100\n",
            "31/31 [==============================] - 1s 26ms/step - loss: 7.0666 - mae: 7.5547 - lr: 1.7783e-04\n",
            "Epoch 87/100\n",
            "31/31 [==============================] - 1s 25ms/step - loss: 7.2429 - mae: 7.7278 - lr: 1.9953e-04\n",
            "Epoch 88/100\n",
            "31/31 [==============================] - 1s 25ms/step - loss: 6.3571 - mae: 6.8373 - lr: 2.2387e-04\n",
            "Epoch 89/100\n",
            "31/31 [==============================] - 1s 25ms/step - loss: 7.0662 - mae: 7.5513 - lr: 2.5119e-04\n",
            "Epoch 90/100\n",
            "31/31 [==============================] - 1s 26ms/step - loss: 7.5634 - mae: 8.0461 - lr: 2.8184e-04\n",
            "Epoch 91/100\n",
            "31/31 [==============================] - 1s 26ms/step - loss: 7.4016 - mae: 7.8897 - lr: 3.1623e-04\n",
            "Epoch 92/100\n",
            "31/31 [==============================] - 1s 25ms/step - loss: 10.3108 - mae: 10.8019 - lr: 3.5481e-04\n",
            "Epoch 93/100\n",
            "31/31 [==============================] - 1s 25ms/step - loss: 8.9524 - mae: 9.4390 - lr: 3.9811e-04\n",
            "Epoch 94/100\n",
            "31/31 [==============================] - 1s 25ms/step - loss: 9.0059 - mae: 9.4936 - lr: 4.4668e-04\n",
            "Epoch 95/100\n",
            "31/31 [==============================] - 1s 24ms/step - loss: 11.7405 - mae: 12.2335 - lr: 5.0119e-04\n",
            "Epoch 96/100\n",
            "31/31 [==============================] - 1s 26ms/step - loss: 10.1950 - mae: 10.6860 - lr: 5.6234e-04\n",
            "Epoch 97/100\n",
            "31/31 [==============================] - 1s 25ms/step - loss: 7.8055 - mae: 8.2923 - lr: 6.3096e-04\n",
            "Epoch 98/100\n",
            "31/31 [==============================] - 1s 26ms/step - loss: 8.5342 - mae: 9.0218 - lr: 7.0795e-04\n",
            "Epoch 99/100\n",
            "31/31 [==============================] - 1s 25ms/step - loss: 8.4686 - mae: 8.9568 - lr: 7.9433e-04\n",
            "Epoch 100/100\n",
            "31/31 [==============================] - 1s 25ms/step - loss: 13.1609 - mae: 13.6531 - lr: 8.9125e-04\n"
          ],
          "name": "stdout"
        }
      ]
    },
    {
      "cell_type": "code",
      "metadata": {
        "colab_type": "code",
        "id": "AkBsrsXMzoWR",
        "colab": {
          "base_uri": "https://localhost:8080/",
          "height": 290
        },
        "outputId": "ccdb3367-2b95-4d75-cbc7-1e848c2c1544"
      },
      "source": [
        "plt.semilogx(history.history[\"lr\"], history.history[\"loss\"])\n",
        "plt.axis([1e-8, 1e-4, 0, 30])"
      ],
      "execution_count": 5,
      "outputs": [
        {
          "output_type": "execute_result",
          "data": {
            "text/plain": [
              "(1e-08, 0.0001, 0.0, 30.0)"
            ]
          },
          "metadata": {
            "tags": []
          },
          "execution_count": 5
        },
        {
          "output_type": "display_data",
          "data": {
            "image/png": "[encoded data removed]",
            "text/plain": [
              "<Figure size 432x288 with 1 Axes>"
            ]
          },
          "metadata": {
            "tags": [],
            "needs_background": "light"
          }
        }
      ]
    },
    {
      "cell_type": "code",
      "metadata": {
        "colab_type": "code",
        "id": "4uh-97bpLZCA",
        "colab": {}
      },
      "source": [
        "tf.keras.backend.clear_session()\n",
        "tf.random.set_seed(51)\n",
        "np.random.seed(51)\n",
        "\n",
        "tf.keras.backend.clear_session()\n",
        "dataset = windowed_dataset(x_train, window_size, batch_size, shuffle_buffer_size)\n",
        "\n",
        "model = tf.keras.models.Sequential([\n",
        "  tf.keras.layers.Lambda(lambda x: tf.expand_dims(x, axis=-1),\n",
        "                      input_shape=[None]),\n",
        "   tf.keras.layers.Bidirectional(tf.keras.layers.LSTM(32, return_sequences=True)),\n",
        "  tf.keras.layers.Bidirectional(tf.keras.layers.LSTM(32)),\n",
        "  tf.keras.layers.Dense(1),\n",
        "  tf.keras.layers.Lambda(lambda x: x * 100.0)\n",
        "])\n",
        "\n",
        "\n",
        "model.compile(loss=\"mse\", optimizer=tf.keras.optimizers.SGD(lr=8e-6, momentum=0.9),metrics=[\"mae\"])\n",
        "history = model.fit(dataset,epochs=500,verbose=0)"
      ],
      "execution_count": 6,
      "outputs": []
    },
    {
      "cell_type": "code",
      "metadata": {
        "colab_type": "code",
        "id": "icGDaND7z0ne",
        "colab": {
          "base_uri": "https://localhost:8080/",
          "height": 388
        },
        "outputId": "53d2a70c-65e2-4110-aa29-a3e5600f8781"
      },
      "source": [
        "forecast = []\n",
        "results = []\n",
        "for time in range(len(series) - window_size):\n",
        "  forecast.append(model.predict(series[time:time + window_size][np.newaxis]))\n",
        "\n",
        "forecast = forecast[split_time-window_size:]\n",
        "results = np.array(forecast)[:, 0, 0]\n",
        "\n",
        "\n",
        "plt.figure(figsize=(10, 6))\n",
        "\n",
        "plot_series(time_valid, x_valid)\n",
        "plot_series(time_valid, results)"
      ],
      "execution_count": 7,
      "outputs": [
        {
          "output_type": "display_data",
          "data": {
            "image/png": "[encoded data removed]",
            "text/plain": [
              "<Figure size 720x432 with 1 Axes>"
            ]
          },
          "metadata": {
            "tags": [],
            "needs_background": "light"
          }
        }
      ]
    },
    {
      "cell_type": "code",
      "metadata": {
        "colab_type": "code",
        "id": "KfPeqI7rz4LD",
        "colab": {
          "base_uri": "https://localhost:8080/",
          "height": 34
        },
        "outputId": "0b3b5a14-b666-49b4-bbef-1c97c90a5e3c"
      },
      "source": [
        "tf.keras.metrics.mean_absolute_error(x_valid, results).numpy()"
      ],
      "execution_count": 8,
      "outputs": [
        {
          "output_type": "execute_result",
          "data": {
            "text/plain": [
              "5.3708363"
            ]
          },
          "metadata": {
            "tags": []
          },
          "execution_count": 8
        }
      ]
    },
    {
      "cell_type": "code",
      "metadata": {
        "colab_type": "code",
        "id": "JUsdZB_tzDLe",
        "colab": {
          "base_uri": "https://localhost:8080/",
          "height": 607
        },
        "outputId": "a5cbd7a0-9cac-4903-c985-874af7b881e2"
      },
      "source": [
        "import matplotlib.image  as mpimg\n",
        "import matplotlib.pyplot as plt\n",
        "\n",
        "#-----------------------------------------------------------\n",
        "# Retrieve a list of list results on training and test data\n",
        "# sets for each training epoch\n",
        "#-----------------------------------------------------------\n",
        "mae=history.history['mae']\n",
        "loss=history.history['loss']\n",
        "\n",
        "epochs=range(len(loss)) # Get number of epochs\n",
        "\n",
        "#------------------------------------------------\n",
        "# Plot MAE and Loss\n",
        "#------------------------------------------------\n",
        "plt.plot(epochs, mae, 'r')\n",
        "plt.plot(epochs, loss, 'b')\n",
        "plt.title('MAE and Loss')\n",
        "plt.xlabel(\"Epochs\")\n",
        "plt.ylabel(\"Accuracy\")\n",
        "plt.legend([\"MAE\", \"Loss\"])\n",
        "\n",
        "plt.figure()\n",
        "\n",
        "epochs_zoom = epochs[200:]\n",
        "mae_zoom = mae[200:]\n",
        "loss_zoom = loss[200:]\n",
        "\n",
        "#------------------------------------------------\n",
        "# Plot Zoomed MAE and Loss\n",
        "#------------------------------------------------\n",
        "plt.plot(epochs_zoom, mae_zoom, 'r')\n",
        "plt.plot(epochs_zoom, loss_zoom, 'b')\n",
        "plt.title('MAE and Loss')\n",
        "plt.xlabel(\"Epochs\")\n",
        "plt.ylabel(\"Accuracy\")\n",
        "plt.legend([\"MAE\", \"Loss\"])\n",
        "\n",
        "plt.figure()"
      ],
      "execution_count": 9,
      "outputs": [
        {
          "output_type": "execute_result",
          "data": {
            "text/plain": [
              "<Figure size 432x288 with 0 Axes>"
            ]
          },
          "metadata": {
            "tags": []
          },
          "execution_count": 9
        },
        {
          "output_type": "display_data",
          "data": {
            "image/png": "[encoded data removed]",
            "text/plain": [
              "<Figure size 432x288 with 1 Axes>"
            ]
          },
          "metadata": {
            "tags": [],
            "needs_background": "light"
          }
        },
        {
          "output_type": "display_data",
          "data": {
            "image/png": "[encoded data removed]",
            "text/plain": [
              "<Figure size 432x288 with 1 Axes>"
            ]
          },
          "metadata": {
            "tags": [],
            "needs_background": "light"
          }
        },
        {
          "output_type": "display_data",
          "data": {
            "text/plain": [
              "<Figure size 432x288 with 0 Axes>"
            ]
          },
          "metadata": {
            "tags": []
          }
        }
      ]
    },
    {
      "cell_type": "code",
      "metadata": {
        "colab_type": "code",
        "id": "3CGaYFxXNEAK",
        "colab": {
          "base_uri": "https://localhost:8080/",
          "height": 34
        },
        "outputId": "a11fe727-5deb-47df-9436-32a0307e6e99"
      },
      "source": [
        "tf.keras.backend.clear_session()\n",
        "dataset = windowed_dataset(x_train, window_size, batch_size, shuffle_buffer_size)\n",
        "\n",
        "model = tf.keras.models.Sequential([\n",
        "  tf.keras.layers.Lambda(lambda x: tf.expand_dims(x, axis=-1),\n",
        "                      input_shape=[None]),\n",
        "  tf.keras.layers.Bidirectional(tf.keras.layers.LSTM(32, return_sequences=True)),\n",
        "  tf.keras.layers.Bidirectional(tf.keras.layers.LSTM(32)),\n",
        "  tf.keras.layers.Dense(1),\n",
        "  tf.keras.layers.Lambda(lambda x: x * 100.0)\n",
        "])\n",
        "\n",
        "\n",
        "model.compile(loss=\"mse\", optimizer=tf.keras.optimizers.SGD(lr=1e-6, momentum=0.9))\n",
        "model.fit(dataset,epochs=100, verbose=0)"
      ],
      "execution_count": 10,
      "outputs": [
        {
          "output_type": "execute_result",
          "data": {
            "text/plain": [
              "<tensorflow.python.keras.callbacks.History at 0x7f49bab0a9e8>"
            ]
          },
          "metadata": {
            "tags": []
          },
          "execution_count": 10
        }
      ]
    },
    {
      "cell_type": "code",
      "metadata": {
        "colab_type": "code",
        "id": "FJ3R8ysauz9e",
        "colab": {
          "base_uri": "https://localhost:8080/",
          "height": 1000
        },
        "outputId": "1205a708-d703-4d04-e37c-7895af8f8714"
      },
      "source": [
        "tf.keras.backend.clear_session()\n",
        "dataset = windowed_dataset(x_train, window_size, batch_size, shuffle_buffer_size)\n",
        "\n",
        "model = tf.keras.models.Sequential([\n",
        "  tf.keras.layers.Lambda(lambda x: tf.expand_dims(x, axis=-1),\n",
        "                      input_shape=[None]),\n",
        "  tf.keras.layers.Bidirectional(tf.keras.layers.LSTM(32, return_sequences=True)),\n",
        "  tf.keras.layers.Bidirectional(tf.keras.layers.LSTM(32, return_sequences=True)),\n",
        "  tf.keras.layers.Bidirectional(tf.keras.layers.LSTM(32)),\n",
        "  tf.keras.layers.Dense(1),\n",
        "  tf.keras.layers.Lambda(lambda x: x * 100.0)\n",
        "])\n",
        "\n",
        "\n",
        "model.compile(loss=\"mse\", optimizer=tf.keras.optimizers.SGD(lr=8e-6, momentum=0.9))\n",
        "model.fit(dataset,epochs=100)"
      ],
      "execution_count": 11,
      "outputs": [
        {
          "output_type": "stream",
          "text": [
            "Epoch 1/100\n",
            "31/31 [==============================] - 1s 37ms/step - loss: 1131.5223\n",
            "Epoch 2/100\n",
            "31/31 [==============================] - 1s 37ms/step - loss: 171.9849\n",
            "Epoch 3/100\n",
            "31/31 [==============================] - 1s 36ms/step - loss: 107.7269\n",
            "Epoch 4/100\n",
            "31/31 [==============================] - 1s 37ms/step - loss: 144.4331\n",
            "Epoch 5/100\n",
            "31/31 [==============================] - 1s 36ms/step - loss: 112.1753\n",
            "Epoch 6/100\n",
            "31/31 [==============================] - 1s 36ms/step - loss: 125.2363\n",
            "Epoch 7/100\n",
            "31/31 [==============================] - 1s 36ms/step - loss: 72.6582\n",
            "Epoch 8/100\n",
            "31/31 [==============================] - 1s 37ms/step - loss: 69.6570\n",
            "Epoch 9/100\n",
            "31/31 [==============================] - 1s 36ms/step - loss: 67.7490\n",
            "Epoch 10/100\n",
            "31/31 [==============================] - 1s 36ms/step - loss: 99.4860\n",
            "Epoch 11/100\n",
            "31/31 [==============================] - 1s 37ms/step - loss: 72.3200\n",
            "Epoch 12/100\n",
            "31/31 [==============================] - 1s 38ms/step - loss: 70.7665\n",
            "Epoch 13/100\n",
            "31/31 [==============================] - 1s 36ms/step - loss: 58.7523\n",
            "Epoch 14/100\n",
            "31/31 [==============================] - 1s 37ms/step - loss: 73.2507\n",
            "Epoch 15/100\n",
            "31/31 [==============================] - 1s 37ms/step - loss: 66.0781\n",
            "Epoch 16/100\n",
            "31/31 [==============================] - 1s 37ms/step - loss: 79.3616\n",
            "Epoch 17/100\n",
            "31/31 [==============================] - 1s 37ms/step - loss: 106.0071\n",
            "Epoch 18/100\n",
            "31/31 [==============================] - 1s 37ms/step - loss: 62.8545\n",
            "Epoch 19/100\n",
            "31/31 [==============================] - 1s 37ms/step - loss: 52.4325\n",
            "Epoch 20/100\n",
            "31/31 [==============================] - 1s 38ms/step - loss: 53.0897\n",
            "Epoch 21/100\n",
            "31/31 [==============================] - 1s 38ms/step - loss: 48.4022\n",
            "Epoch 22/100\n",
            "31/31 [==============================] - 1s 37ms/step - loss: 68.6889\n",
            "Epoch 23/100\n",
            "31/31 [==============================] - 1s 37ms/step - loss: 75.4807\n",
            "Epoch 24/100\n",
            "31/31 [==============================] - 1s 36ms/step - loss: 72.0839\n",
            "Epoch 25/100\n",
            "31/31 [==============================] - 1s 37ms/step - loss: 66.0829\n",
            "Epoch 26/100\n",
            "31/31 [==============================] - 1s 37ms/step - loss: 76.3524\n",
            "Epoch 27/100\n",
            "31/31 [==============================] - 1s 37ms/step - loss: 74.5249\n",
            "Epoch 28/100\n",
            "31/31 [==============================] - 1s 37ms/step - loss: 72.8597\n",
            "Epoch 29/100\n",
            "31/31 [==============================] - 1s 37ms/step - loss: 49.8704\n",
            "Epoch 30/100\n",
            "31/31 [==============================] - 1s 37ms/step - loss: 54.7464\n",
            "Epoch 31/100\n",
            "31/31 [==============================] - 1s 37ms/step - loss: 49.9444\n",
            "Epoch 32/100\n",
            "31/31 [==============================] - 1s 37ms/step - loss: 47.8915\n",
            "Epoch 33/100\n",
            "31/31 [==============================] - 1s 36ms/step - loss: 52.9932\n",
            "Epoch 34/100\n",
            "31/31 [==============================] - 1s 36ms/step - loss: 55.7107\n",
            "Epoch 35/100\n",
            "31/31 [==============================] - 1s 37ms/step - loss: 73.9533\n",
            "Epoch 36/100\n",
            "31/31 [==============================] - 1s 37ms/step - loss: 57.6025\n",
            "Epoch 37/100\n",
            "31/31 [==============================] - 1s 38ms/step - loss: 46.7172\n",
            "Epoch 38/100\n",
            "31/31 [==============================] - 1s 37ms/step - loss: 65.4625\n",
            "Epoch 39/100\n",
            "31/31 [==============================] - 1s 37ms/step - loss: 49.9972\n",
            "Epoch 40/100\n",
            "31/31 [==============================] - 1s 37ms/step - loss: 62.4124\n",
            "Epoch 41/100\n",
            "31/31 [==============================] - 1s 37ms/step - loss: 53.5690\n",
            "Epoch 42/100\n",
            "31/31 [==============================] - 1s 37ms/step - loss: 53.7321\n",
            "Epoch 43/100\n",
            "31/31 [==============================] - 1s 37ms/step - loss: 49.9361\n",
            "Epoch 44/100\n",
            "31/31 [==============================] - 1s 36ms/step - loss: 50.7148\n",
            "Epoch 45/100\n",
            "31/31 [==============================] - 1s 37ms/step - loss: 58.1933\n",
            "Epoch 46/100\n",
            "31/31 [==============================] - 1s 38ms/step - loss: 50.7885\n",
            "Epoch 47/100\n",
            "31/31 [==============================] - 1s 37ms/step - loss: 51.6437\n",
            "Epoch 48/100\n",
            "31/31 [==============================] - 1s 37ms/step - loss: 54.1977\n",
            "Epoch 49/100\n",
            "31/31 [==============================] - 1s 36ms/step - loss: 52.2183\n",
            "Epoch 50/100\n",
            "31/31 [==============================] - 1s 37ms/step - loss: 48.3886\n",
            "Epoch 51/100\n",
            "31/31 [==============================] - 1s 36ms/step - loss: 49.9822\n",
            "Epoch 52/100\n",
            "31/31 [==============================] - 1s 37ms/step - loss: 49.2267\n",
            "Epoch 53/100\n",
            "31/31 [==============================] - 1s 37ms/step - loss: 50.9168\n",
            "Epoch 54/100\n",
            "31/31 [==============================] - 1s 37ms/step - loss: 48.7111\n",
            "Epoch 55/100\n",
            "31/31 [==============================] - 1s 36ms/step - loss: 58.8418\n",
            "Epoch 56/100\n",
            "31/31 [==============================] - 1s 36ms/step - loss: 47.2454\n",
            "Epoch 57/100\n",
            "31/31 [==============================] - 1s 37ms/step - loss: 47.3958\n",
            "Epoch 58/100\n",
            "31/31 [==============================] - 1s 36ms/step - loss: 50.3473\n",
            "Epoch 59/100\n",
            "31/31 [==============================] - 1s 37ms/step - loss: 46.9126\n",
            "Epoch 60/100\n",
            "31/31 [==============================] - 1s 37ms/step - loss: 51.7401\n",
            "Epoch 61/100\n",
            "31/31 [==============================] - 1s 37ms/step - loss: 58.4546\n",
            "Epoch 62/100\n",
            "31/31 [==============================] - 1s 36ms/step - loss: 50.8191\n",
            "Epoch 63/100\n",
            "31/31 [==============================] - 1s 37ms/step - loss: 54.5385\n",
            "Epoch 64/100\n",
            "31/31 [==============================] - 1s 36ms/step - loss: 59.1998\n",
            "Epoch 65/100\n",
            "31/31 [==============================] - 1s 37ms/step - loss: 54.8391\n",
            "Epoch 66/100\n",
            "31/31 [==============================] - 1s 37ms/step - loss: 45.1339\n",
            "Epoch 67/100\n",
            "31/31 [==============================] - 1s 36ms/step - loss: 47.4690\n",
            "Epoch 68/100\n",
            "31/31 [==============================] - 1s 37ms/step - loss: 48.1437\n",
            "Epoch 69/100\n",
            "31/31 [==============================] - 1s 36ms/step - loss: 47.4872\n",
            "Epoch 70/100\n",
            "31/31 [==============================] - 1s 36ms/step - loss: 47.7250\n",
            "Epoch 71/100\n",
            "31/31 [==============================] - 1s 38ms/step - loss: 45.6941\n",
            "Epoch 72/100\n",
            "31/31 [==============================] - 1s 36ms/step - loss: 51.7429\n",
            "Epoch 73/100\n",
            "31/31 [==============================] - 1s 36ms/step - loss: 47.0475\n",
            "Epoch 74/100\n",
            "31/31 [==============================] - 1s 36ms/step - loss: 47.6207\n",
            "Epoch 75/100\n",
            "31/31 [==============================] - 1s 36ms/step - loss: 45.1227\n",
            "Epoch 76/100\n",
            "31/31 [==============================] - 1s 37ms/step - loss: 46.4824\n",
            "Epoch 77/100\n",
            "31/31 [==============================] - 1s 36ms/step - loss: 46.7461\n",
            "Epoch 78/100\n",
            "31/31 [==============================] - 1s 37ms/step - loss: 58.4734\n",
            "Epoch 79/100\n",
            "31/31 [==============================] - 1s 37ms/step - loss: 46.5166\n",
            "Epoch 80/100\n",
            "31/31 [==============================] - 1s 37ms/step - loss: 44.1004\n",
            "Epoch 81/100\n",
            "31/31 [==============================] - 1s 37ms/step - loss: 46.9077\n",
            "Epoch 82/100\n",
            "31/31 [==============================] - 1s 37ms/step - loss: 53.0241\n",
            "Epoch 83/100\n",
            "31/31 [==============================] - 1s 37ms/step - loss: 46.6774\n",
            "Epoch 84/100\n",
            "31/31 [==============================] - 1s 37ms/step - loss: 47.4799\n",
            "Epoch 85/100\n",
            "31/31 [==============================] - 1s 36ms/step - loss: 46.9060\n",
            "Epoch 86/100\n",
            "31/31 [==============================] - 1s 37ms/step - loss: 45.5601\n",
            "Epoch 87/100\n",
            "31/31 [==============================] - 1s 37ms/step - loss: 57.0709\n",
            "Epoch 88/100\n",
            "31/31 [==============================] - 1s 37ms/step - loss: 50.5529\n",
            "Epoch 89/100\n",
            "31/31 [==============================] - 1s 36ms/step - loss: 46.6297\n",
            "Epoch 90/100\n",
            "31/31 [==============================] - 1s 37ms/step - loss: 58.9049\n",
            "Epoch 91/100\n",
            "31/31 [==============================] - 1s 38ms/step - loss: 49.4269\n",
            "Epoch 92/100\n",
            "31/31 [==============================] - 1s 36ms/step - loss: 47.8975\n",
            "Epoch 93/100\n",
            "31/31 [==============================] - 1s 36ms/step - loss: 45.7142\n",
            "Epoch 94/100\n",
            "31/31 [==============================] - 1s 36ms/step - loss: 47.3168\n",
            "Epoch 95/100\n",
            "31/31 [==============================] - 1s 37ms/step - loss: 49.2987\n",
            "Epoch 96/100\n",
            "31/31 [==============================] - 1s 37ms/step - loss: 49.4244\n",
            "Epoch 97/100\n",
            "31/31 [==============================] - 1s 36ms/step - loss: 48.4317\n",
            "Epoch 98/100\n",
            "31/31 [==============================] - 1s 37ms/step - loss: 47.5701\n",
            "Epoch 99/100\n",
            "31/31 [==============================] - 1s 37ms/step - loss: 44.8574\n",
            "Epoch 100/100\n",
            "31/31 [==============================] - 1s 36ms/step - loss: 52.3761\n"
          ],
          "name": "stdout"
        },
        {
          "output_type": "execute_result",
          "data": {
            "text/plain": [
              "<tensorflow.python.keras.callbacks.History at 0x7f49b79e1438>"
            ]
          },
          "metadata": {
            "tags": []
          },
          "execution_count": 11
        }
      ]
    },
    {
      "cell_type": "code",
      "metadata": {
        "id": "nQGd0E-47_ab",
        "colab_type": "code",
        "colab": {
          "base_uri": "https://localhost:8080/",
          "height": 34
        },
        "outputId": "bfdfa51d-ee6f-422e-b485-4b990d0e39a7"
      },
      "source": [
        "forecast = []\n",
        "results = []\n",
        "for time in range(len(series) - window_size):\n",
        "  forecast.append(model.predict(series[time:time + window_size][np.newaxis]))\n",
        "\n",
        "forecast = forecast[split_time-window_size:]\n",
        "results = np.array(forecast)[:, 0, 0]\n",
        "\n",
        "print(tf.keras.metrics.mean_absolute_error(x_valid, results).numpy())"
      ],
      "execution_count": 12,
      "outputs": [
        {
          "output_type": "stream",
          "text": [
            "11.852254\n"
          ],
          "name": "stdout"
        }
      ]
    },
    {
      "cell_type": "code",
      "metadata": {
        "id": "-66qLNpZ8ShI",
        "colab_type": "code",
        "colab": {}
      },
      "source": [
        ""
      ],
      "execution_count": null,
      "outputs": []
    }
  ]
}