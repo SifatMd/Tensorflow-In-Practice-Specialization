{
  "nbformat": 4,
  "nbformat_minor": 0,
  "metadata": {
    "accelerator": "GPU",
    "colab": {
      "name": "Course 3 - Week 3 - Lesson 2.ipynb",
      "provenance": [],
      "collapsed_sections": [],
      "toc_visible": true
    },
    "kernelspec": {
      "display_name": "Python 3",
      "language": "python",
      "name": "python3"
    },
    "language_info": {
      "codemirror_mode": {
        "name": "ipython",
        "version": 3
      },
      "file_extension": ".py",
      "mimetype": "text/x-python",
      "name": "python",
      "nbconvert_exporter": "python",
      "pygments_lexer": "ipython3",
      "version": "3.7.6"
    }
  },
  "cells": [
    {
      "cell_type": "code",
      "metadata": {
        "colab_type": "code",
        "id": "zX4Kg8DUTKWO",
        "colab": {}
      },
      "source": [
        "#@title Licensed under the Apache License, Version 2.0 (the \"License\");\n",
        "# you may not use this file except in compliance with the License.\n",
        "# You may obtain a copy of the License at\n",
        "#\n",
        "# https://www.apache.org/licenses/LICENSE-2.0\n",
        "#\n",
        "# Unless required by applicable law or agreed to in writing, software\n",
        "# distributed under the License is distributed on an \"AS IS\" BASIS,\n",
        "# WITHOUT WARRANTIES OR CONDITIONS OF ANY KIND, either express or implied.\n",
        "# See the License for the specific language governing permissions and\n",
        "# limitations under the License."
      ],
      "execution_count": null,
      "outputs": []
    },
    {
      "cell_type": "markdown",
      "metadata": {
        "id": "o3MixgDN7Qnw",
        "colab_type": "text"
      },
      "source": [
        "<a href=\"https://colab.research.google.com/github/lmoroney/dlaicourse/blob/master/TensorFlow%20In%20Practice/Course%203%20-%20NLP/Course%203%20-%20Week%203%20-%20Lesson%202.ipynb\" target=\"_parent\"><img src=\"https://colab.research.google.com/assets/colab-badge.svg\" alt=\"Open In Colab\"/></a>"
      ]
    },
    {
      "cell_type": "code",
      "metadata": {
        "colab_type": "code",
        "id": "jGwXGIXvFhXW",
        "colab": {
          "base_uri": "https://localhost:8080/",
          "height": 1000
        },
        "outputId": "54a11c37-aef1-4a18-8a04-d24a03a2bedd"
      },
      "source": [
        "import numpy as np\n",
        "\n",
        "import json\n",
        "import tensorflow as tf\n",
        "\n",
        "from tensorflow.keras.preprocessing.text import Tokenizer\n",
        "from tensorflow.keras.preprocessing.sequence import pad_sequences\n",
        "\n",
        "!wget --no-check-certificate \\\n",
        "    https://storage.googleapis.com/laurencemoroney-blog.appspot.com/sarcasm.json \\\n",
        "    -O /tmp/sarcasm.json\n",
        "\n",
        "vocab_size = 10000\n",
        "embedding_dim = 32\n",
        "max_length = 150\n",
        "trunc_type='post'\n",
        "padding_type='post'\n",
        "oov_tok = \"<OOV>\"\n",
        "training_size = 20000\n",
        "\n",
        "\n",
        "with open(\"/tmp/sarcasm.json\", 'r') as f:\n",
        "    datastore = json.load(f)\n",
        "\n",
        "\n",
        "sentences = []\n",
        "labels = []\n",
        "urls = []\n",
        "for item in datastore:\n",
        "    sentences.append(item['headline'])\n",
        "    labels.append(item['is_sarcastic'])\n",
        "\n",
        "training_sentences = sentences[0:training_size]\n",
        "testing_sentences = sentences[training_size:]\n",
        "training_labels = labels[0:training_size]\n",
        "testing_labels = labels[training_size:]\n",
        "\n",
        "tokenizer = Tokenizer(num_words=vocab_size, oov_token=oov_tok)\n",
        "tokenizer.fit_on_texts(training_sentences)\n",
        "\n",
        "word_index = tokenizer.word_index\n",
        "\n",
        "training_sequences = tokenizer.texts_to_sequences(training_sentences)\n",
        "training_padded = pad_sequences(training_sequences, maxlen=max_length, padding=padding_type, truncating=trunc_type)\n",
        "\n",
        "testing_sequences = tokenizer.texts_to_sequences(testing_sentences)\n",
        "testing_padded = pad_sequences(testing_sequences, maxlen=max_length, padding=padding_type, truncating=trunc_type)\n",
        "\n",
        "model = tf.keras.Sequential([\n",
        "    tf.keras.layers.Embedding(vocab_size, embedding_dim, input_length=max_length),\n",
        "    tf.keras.layers.Bidirectional(tf.keras.layers.LSTM(32, return_sequences=True)),\n",
        "    tf.keras.layers.Bidirectional(tf.keras.layers.LSTM(16)),\n",
        "    tf.keras.layers.Dense(16, activation='relu'),\n",
        "    tf.keras.layers.Dropout(.1),\n",
        "    tf.keras.layers.Dense(8, activation='relu'),\n",
        "    tf.keras.layers.Dropout(.1),\n",
        "    tf.keras.layers.Dense(1, activation='sigmoid')\n",
        "])\n",
        "model.compile(loss='binary_crossentropy',optimizer='adam',metrics=['accuracy'])\n",
        "model.summary()\n",
        "\n",
        "num_epochs = 50\n",
        "training_padded = np.array(training_padded)\n",
        "training_labels = np.array(training_labels)\n",
        "testing_padded = np.array(testing_padded)\n",
        "testing_labels = np.array(testing_labels)\n",
        "history = model.fit(training_padded, training_labels, epochs=num_epochs, validation_data=(testing_padded, testing_labels), verbose=1)\n"
      ],
      "execution_count": null,
      "outputs": [
        {
          "output_type": "stream",
          "text": [
            "--2020-07-07 06:52:18--  https://storage.googleapis.com/laurencemoroney-blog.appspot.com/sarcasm.json\n",
            "Resolving storage.googleapis.com (storage.googleapis.com)... 108.177.119.128, 108.177.126.128, 2a00:1450:4013:c05::80, ...\n",
            "Connecting to storage.googleapis.com (storage.googleapis.com)|108.177.119.128|:443... connected.\n",
            "HTTP request sent, awaiting response... 200 OK\n",
            "Length: 5643545 (5.4M) [application/json]\n",
            "Saving to: ‘/tmp/sarcasm.json’\n",
            "\n",
            "\r/tmp/sarcasm.json     0%[                    ]       0  --.-KB/s               \r/tmp/sarcasm.json   100%[===================>]   5.38M  --.-KB/s    in 0.03s   \n",
            "\n",
            "2020-07-07 06:52:18 (213 MB/s) - ‘/tmp/sarcasm.json’ saved [5643545/5643545]\n",
            "\n",
            "Model: \"sequential_2\"\n",
            "_________________________________________________________________\n",
            "Layer (type)                 Output Shape              Param #   \n",
            "=================================================================\n",
            "embedding_2 (Embedding)      (None, 150, 32)           320000    \n",
            "_________________________________________________________________\n",
            "bidirectional_2 (Bidirection (None, 150, 64)           16640     \n",
            "_________________________________________________________________\n",
            "bidirectional_3 (Bidirection (None, 32)                10368     \n",
            "_________________________________________________________________\n",
            "dense_4 (Dense)              (None, 16)                528       \n",
            "_________________________________________________________________\n",
            "dropout (Dropout)            (None, 16)                0         \n",
            "_________________________________________________________________\n",
            "dense_5 (Dense)              (None, 8)                 136       \n",
            "_________________________________________________________________\n",
            "dropout_1 (Dropout)          (None, 8)                 0         \n",
            "_________________________________________________________________\n",
            "dense_6 (Dense)              (None, 1)                 9         \n",
            "=================================================================\n",
            "Total params: 347,681\n",
            "Trainable params: 347,681\n",
            "Non-trainable params: 0\n",
            "_________________________________________________________________\n",
            "Epoch 1/50\n",
            "625/625 [==============================] - 19s 30ms/step - loss: 0.4354 - accuracy: 0.7929 - val_loss: 0.3471 - val_accuracy: 0.8521\n",
            "Epoch 2/50\n",
            "625/625 [==============================] - 18s 29ms/step - loss: 0.2356 - accuracy: 0.9089 - val_loss: 0.3435 - val_accuracy: 0.8530\n",
            "Epoch 3/50\n",
            "625/625 [==============================] - 18s 28ms/step - loss: 0.1438 - accuracy: 0.9488 - val_loss: 0.4483 - val_accuracy: 0.8465\n",
            "Epoch 4/50\n",
            "625/625 [==============================] - 18s 29ms/step - loss: 0.0845 - accuracy: 0.9728 - val_loss: 0.5800 - val_accuracy: 0.8365\n",
            "Epoch 5/50\n",
            "625/625 [==============================] - 18s 28ms/step - loss: 0.0525 - accuracy: 0.9826 - val_loss: 0.7838 - val_accuracy: 0.8375\n",
            "Epoch 6/50\n",
            "625/625 [==============================] - 18s 28ms/step - loss: 0.0362 - accuracy: 0.9876 - val_loss: 0.8990 - val_accuracy: 0.8357\n",
            "Epoch 7/50\n",
            "625/625 [==============================] - 18s 28ms/step - loss: 0.0222 - accuracy: 0.9927 - val_loss: 0.9314 - val_accuracy: 0.8389\n",
            "Epoch 8/50\n",
            "625/625 [==============================] - 18s 28ms/step - loss: 0.0162 - accuracy: 0.9948 - val_loss: 0.9148 - val_accuracy: 0.8356\n",
            "Epoch 9/50\n",
            "625/625 [==============================] - 18s 28ms/step - loss: 0.0143 - accuracy: 0.9952 - val_loss: 1.1882 - val_accuracy: 0.8393\n",
            "Epoch 10/50\n",
            "625/625 [==============================] - 17s 28ms/step - loss: 0.0122 - accuracy: 0.9966 - val_loss: 1.1961 - val_accuracy: 0.8320\n",
            "Epoch 11/50\n",
            "625/625 [==============================] - 18s 29ms/step - loss: 0.0070 - accuracy: 0.9981 - val_loss: 1.3483 - val_accuracy: 0.8351\n",
            "Epoch 12/50\n",
            "625/625 [==============================] - 18s 28ms/step - loss: 0.0224 - accuracy: 0.9969 - val_loss: 1.1786 - val_accuracy: 0.8322\n",
            "Epoch 13/50\n",
            "625/625 [==============================] - 17s 28ms/step - loss: 0.0092 - accuracy: 0.9977 - val_loss: 1.3326 - val_accuracy: 0.8319\n",
            "Epoch 14/50\n",
            "625/625 [==============================] - 17s 28ms/step - loss: 0.0080 - accuracy: 0.9976 - val_loss: 1.4512 - val_accuracy: 0.8283\n",
            "Epoch 15/50\n",
            "625/625 [==============================] - 17s 28ms/step - loss: 0.0048 - accuracy: 0.9987 - val_loss: 1.4947 - val_accuracy: 0.8252\n",
            "Epoch 16/50\n",
            "625/625 [==============================] - 17s 28ms/step - loss: 0.0062 - accuracy: 0.9980 - val_loss: 1.4800 - val_accuracy: 0.8319\n",
            "Epoch 17/50\n",
            "625/625 [==============================] - 17s 28ms/step - loss: 0.0039 - accuracy: 0.9988 - val_loss: 1.6076 - val_accuracy: 0.8317\n",
            "Epoch 18/50\n",
            "625/625 [==============================] - 17s 28ms/step - loss: 0.0072 - accuracy: 0.9978 - val_loss: 1.2443 - val_accuracy: 0.8268\n",
            "Epoch 19/50\n",
            "625/625 [==============================] - 17s 28ms/step - loss: 0.0048 - accuracy: 0.9983 - val_loss: 1.6862 - val_accuracy: 0.8229\n",
            "Epoch 20/50\n",
            "625/625 [==============================] - 17s 28ms/step - loss: 0.0078 - accuracy: 0.9977 - val_loss: 1.4412 - val_accuracy: 0.8293\n",
            "Epoch 21/50\n",
            "124/625 [====>.........................] - ETA: 11s - loss: 0.0027 - accuracy: 0.9992"
          ],
          "name": "stdout"
        }
      ]
    },
    {
      "cell_type": "code",
      "metadata": {
        "colab_type": "code",
        "id": "g9DC6dmLF8DC",
        "colab": {
          "base_uri": "https://localhost:8080/",
          "height": 541
        },
        "outputId": "6f52ad01-8b11-4fc0-d9bd-56ea42d2b52e"
      },
      "source": [
        "import matplotlib.pyplot as plt\n",
        "\n",
        "\n",
        "def plot_graphs(history, string):\n",
        "  plt.plot(history.history[string])\n",
        "  plt.plot(history.history['val_'+string])\n",
        "  plt.xlabel(\"Epochs\")\n",
        "  plt.ylabel(string)\n",
        "  plt.legend([string, 'val_'+string])\n",
        "  plt.show()\n",
        "\n",
        "plot_graphs(history, 'accuracy')\n",
        "plot_graphs(history, 'loss')"
      ],
      "execution_count": 4,
      "outputs": [
        {
          "output_type": "display_data",
          "data": {
            "image/png": "[encoded data removed]",
            "text/plain": [
              "<Figure size 432x288 with 1 Axes>"
            ]
          },
          "metadata": {
            "tags": [],
            "needs_background": "light"
          }
        },
        {
          "output_type": "display_data",
          "data": {
            "image/png": "[encoded data removed]",
            "text/plain": [
              "<Figure size 432x288 with 1 Axes>"
            ]
          },
          "metadata": {
            "tags": [],
            "needs_background": "light"
          }
        }
      ]
    },
    {
      "cell_type": "code",
      "metadata": {
        "colab_type": "code",
        "id": "7ZEZIUppGhdi",
        "colab": {}
      },
      "source": [
        "model.save(\"test.h5\")"
      ],
      "execution_count": null,
      "outputs": []
    }
  ]
}