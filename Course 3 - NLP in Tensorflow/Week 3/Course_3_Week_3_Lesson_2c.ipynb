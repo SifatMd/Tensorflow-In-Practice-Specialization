{
  "nbformat": 4,
  "nbformat_minor": 0,
  "metadata": {
    "accelerator": "GPU",
    "colab": {
      "name": "Course 3 - Week 3 - Lesson 2c.ipynb",
      "provenance": [],
      "collapsed_sections": [],
      "toc_visible": true
    },
    "kernelspec": {
      "display_name": "Python 3",
      "language": "python",
      "name": "python3"
    },
    "language_info": {
      "codemirror_mode": {
        "name": "ipython",
        "version": 3
      },
      "file_extension": ".py",
      "mimetype": "text/x-python",
      "name": "python",
      "nbconvert_exporter": "python",
      "pygments_lexer": "ipython3",
      "version": "3.7.6"
    }
  },
  "cells": [
    {
      "cell_type": "code",
      "metadata": {
        "colab_type": "code",
        "id": "zX4Kg8DUTKWO",
        "colab": {}
      },
      "source": [
        "#@title Licensed under the Apache License, Version 2.0 (the \"License\");\n",
        "# you may not use this file except in compliance with the License.\n",
        "# You may obtain a copy of the License at\n",
        "#\n",
        "# https://www.apache.org/licenses/LICENSE-2.0\n",
        "#\n",
        "# Unless required by applicable law or agreed to in writing, software\n",
        "# distributed under the License is distributed on an \"AS IS\" BASIS,\n",
        "# WITHOUT WARRANTIES OR CONDITIONS OF ANY KIND, either express or implied.\n",
        "# See the License for the specific language governing permissions and\n",
        "# limitations under the License."
      ],
      "execution_count": null,
      "outputs": []
    },
    {
      "cell_type": "markdown",
      "metadata": {
        "id": "shUPw0Mz7Q5b",
        "colab_type": "text"
      },
      "source": [
        "<a href=\"https://colab.research.google.com/github/lmoroney/dlaicourse/blob/master/TensorFlow%20In%20Practice/Course%203%20-%20NLP/Course%203%20-%20Week%203%20-%20Lesson%202c.ipynb\" target=\"_parent\"><img src=\"https://colab.research.google.com/assets/colab-badge.svg\" alt=\"Open In Colab\"/></a>"
      ]
    },
    {
      "cell_type": "code",
      "metadata": {
        "colab_type": "code",
        "id": "jGwXGIXvFhXW",
        "colab": {
          "base_uri": "https://localhost:8080/",
          "height": 1000
        },
        "outputId": "7dae33de-d70f-463c-c797-14cb789219de"
      },
      "source": [
        "import numpy as np\n",
        "\n",
        "import json\n",
        "import tensorflow as tf\n",
        "\n",
        "from tensorflow.keras.preprocessing.text import Tokenizer\n",
        "from tensorflow.keras.preprocessing.sequence import pad_sequences\n",
        "\n",
        "!wget --no-check-certificate \\\n",
        "    https://storage.googleapis.com/laurencemoroney-blog.appspot.com/sarcasm.json \\\n",
        "    -O /tmp/sarcasm.json\n",
        "\n",
        "vocab_size = 1000\n",
        "embedding_dim = 32\n",
        "max_length = 120\n",
        "trunc_type='post'\n",
        "padding_type='post'\n",
        "oov_tok = \"<OOV>\"\n",
        "training_size = 20000\n",
        "\n",
        "\n",
        "with open(\"/tmp/sarcasm.json\", 'r') as f:\n",
        "    datastore = json.load(f)\n",
        "\n",
        "\n",
        "sentences = []\n",
        "labels = []\n",
        "urls = []\n",
        "for item in datastore:\n",
        "    sentences.append(item['headline'])\n",
        "    labels.append(item['is_sarcastic'])\n",
        "\n",
        "training_sentences = sentences[0:training_size]\n",
        "testing_sentences = sentences[training_size:]\n",
        "training_labels = labels[0:training_size]\n",
        "testing_labels = labels[training_size:]\n",
        "\n",
        "tokenizer = Tokenizer(num_words=vocab_size, oov_token=oov_tok)\n",
        "tokenizer.fit_on_texts(training_sentences)\n",
        "\n",
        "word_index = tokenizer.word_index\n",
        "\n",
        "training_sequences = tokenizer.texts_to_sequences(training_sentences)\n",
        "training_padded = pad_sequences(training_sequences, maxlen=max_length, padding=padding_type, truncating=trunc_type)\n",
        "\n",
        "testing_sequences = tokenizer.texts_to_sequences(testing_sentences)\n",
        "testing_padded = pad_sequences(testing_sequences, maxlen=max_length, padding=padding_type, truncating=trunc_type)\n",
        "\n",
        "model = tf.keras.Sequential([\n",
        "    tf.keras.layers.Embedding(vocab_size, embedding_dim, input_length=max_length),\n",
        "    tf.keras.layers.Conv1D(128, 5, activation='relu'),\n",
        "    tf.keras.layers.GlobalMaxPooling1D(),\n",
        "    tf.keras.layers.Dense(24, activation='relu'),\n",
        "    tf.keras.layers.Dense(1, activation='sigmoid')\n",
        "])\n",
        "model.compile(loss='binary_crossentropy',optimizer='adam',metrics=['accuracy'])\n",
        "model.summary()\n",
        "\n",
        "num_epochs = 50\n",
        "\n",
        "training_padded = np.array(training_padded)\n",
        "training_labels = np.array(training_labels)\n",
        "testing_padded = np.array(testing_padded)\n",
        "testing_labels = np.array(testing_labels)\n",
        "\n",
        "history = model.fit(training_padded, training_labels, epochs=num_epochs, validation_data=(testing_padded, testing_labels), verbose=1)\n"
      ],
      "execution_count": 3,
      "outputs": [
        {
          "output_type": "stream",
          "text": [
            "--2020-07-07 06:27:49--  https://storage.googleapis.com/laurencemoroney-blog.appspot.com/sarcasm.json\n",
            "Resolving storage.googleapis.com (storage.googleapis.com)... 74.125.203.128, 74.125.204.128, 64.233.188.128, ...\n",
            "Connecting to storage.googleapis.com (storage.googleapis.com)|74.125.203.128|:443... connected.\n",
            "HTTP request sent, awaiting response... 200 OK\n",
            "Length: 5643545 (5.4M) [application/json]\n",
            "Saving to: ‘/tmp/sarcasm.json’\n",
            "\n",
            "\r/tmp/sarcasm.json     0%[                    ]       0  --.-KB/s               \r/tmp/sarcasm.json   100%[===================>]   5.38M  --.-KB/s    in 0.05s   \n",
            "\n",
            "2020-07-07 06:27:49 (101 MB/s) - ‘/tmp/sarcasm.json’ saved [5643545/5643545]\n",
            "\n",
            "Model: \"sequential_1\"\n",
            "_________________________________________________________________\n",
            "Layer (type)                 Output Shape              Param #   \n",
            "=================================================================\n",
            "embedding_1 (Embedding)      (None, 120, 32)           32000     \n",
            "_________________________________________________________________\n",
            "conv1d_1 (Conv1D)            (None, 116, 128)          20608     \n",
            "_________________________________________________________________\n",
            "global_max_pooling1d_1 (Glob (None, 128)               0         \n",
            "_________________________________________________________________\n",
            "dense_2 (Dense)              (None, 24)                3096      \n",
            "_________________________________________________________________\n",
            "dense_3 (Dense)              (None, 1)                 25        \n",
            "=================================================================\n",
            "Total params: 55,729\n",
            "Trainable params: 55,729\n",
            "Non-trainable params: 0\n",
            "_________________________________________________________________\n",
            "Epoch 1/50\n",
            "625/625 [==============================] - 4s 7ms/step - loss: 0.4573 - accuracy: 0.7721 - val_loss: 0.4005 - val_accuracy: 0.8180\n",
            "Epoch 2/50\n",
            "625/625 [==============================] - 4s 7ms/step - loss: 0.3484 - accuracy: 0.8421 - val_loss: 0.3870 - val_accuracy: 0.8238\n",
            "Epoch 3/50\n",
            "625/625 [==============================] - 5s 7ms/step - loss: 0.3003 - accuracy: 0.8687 - val_loss: 0.4137 - val_accuracy: 0.8152\n",
            "Epoch 4/50\n",
            "625/625 [==============================] - 5s 7ms/step - loss: 0.2545 - accuracy: 0.8921 - val_loss: 0.4225 - val_accuracy: 0.8205\n",
            "Epoch 5/50\n",
            "625/625 [==============================] - 4s 7ms/step - loss: 0.2097 - accuracy: 0.9130 - val_loss: 0.4720 - val_accuracy: 0.8110\n",
            "Epoch 6/50\n",
            "625/625 [==============================] - 4s 7ms/step - loss: 0.1569 - accuracy: 0.9390 - val_loss: 0.5393 - val_accuracy: 0.8091\n",
            "Epoch 7/50\n",
            "625/625 [==============================] - 4s 7ms/step - loss: 0.1214 - accuracy: 0.9538 - val_loss: 0.5986 - val_accuracy: 0.8035\n",
            "Epoch 8/50\n",
            "625/625 [==============================] - 4s 7ms/step - loss: 0.0906 - accuracy: 0.9676 - val_loss: 0.6929 - val_accuracy: 0.8055\n",
            "Epoch 9/50\n",
            "625/625 [==============================] - 4s 7ms/step - loss: 0.0659 - accuracy: 0.9778 - val_loss: 0.7924 - val_accuracy: 0.8089\n",
            "Epoch 10/50\n",
            "625/625 [==============================] - 4s 7ms/step - loss: 0.0549 - accuracy: 0.9814 - val_loss: 0.8831 - val_accuracy: 0.8043\n",
            "Epoch 11/50\n",
            "625/625 [==============================] - 4s 7ms/step - loss: 0.0458 - accuracy: 0.9837 - val_loss: 0.9756 - val_accuracy: 0.8030\n",
            "Epoch 12/50\n",
            "625/625 [==============================] - 4s 7ms/step - loss: 0.0391 - accuracy: 0.9854 - val_loss: 1.0664 - val_accuracy: 0.8015\n",
            "Epoch 13/50\n",
            "625/625 [==============================] - 4s 7ms/step - loss: 0.0362 - accuracy: 0.9867 - val_loss: 1.2246 - val_accuracy: 0.7995\n",
            "Epoch 14/50\n",
            "625/625 [==============================] - 4s 7ms/step - loss: 0.0357 - accuracy: 0.9865 - val_loss: 1.2555 - val_accuracy: 0.7983\n",
            "Epoch 15/50\n",
            "625/625 [==============================] - 4s 7ms/step - loss: 0.0367 - accuracy: 0.9857 - val_loss: 1.3046 - val_accuracy: 0.7946\n",
            "Epoch 16/50\n",
            "625/625 [==============================] - 4s 7ms/step - loss: 0.0318 - accuracy: 0.9872 - val_loss: 1.4240 - val_accuracy: 0.7833\n",
            "Epoch 17/50\n",
            "625/625 [==============================] - 4s 7ms/step - loss: 0.0367 - accuracy: 0.9853 - val_loss: 1.3765 - val_accuracy: 0.7980\n",
            "Epoch 18/50\n",
            "625/625 [==============================] - 4s 7ms/step - loss: 0.0263 - accuracy: 0.9887 - val_loss: 1.4643 - val_accuracy: 0.8010\n",
            "Epoch 19/50\n",
            "625/625 [==============================] - 4s 7ms/step - loss: 0.0228 - accuracy: 0.9909 - val_loss: 1.4688 - val_accuracy: 0.7965\n",
            "Epoch 20/50\n",
            "625/625 [==============================] - 4s 7ms/step - loss: 0.0250 - accuracy: 0.9898 - val_loss: 1.5116 - val_accuracy: 0.7948\n",
            "Epoch 21/50\n",
            "625/625 [==============================] - 4s 7ms/step - loss: 0.0311 - accuracy: 0.9869 - val_loss: 1.5912 - val_accuracy: 0.7976\n",
            "Epoch 22/50\n",
            "625/625 [==============================] - 4s 7ms/step - loss: 0.0283 - accuracy: 0.9882 - val_loss: 1.5217 - val_accuracy: 0.7918\n",
            "Epoch 23/50\n",
            "625/625 [==============================] - 4s 7ms/step - loss: 0.0267 - accuracy: 0.9890 - val_loss: 1.4980 - val_accuracy: 0.8070\n",
            "Epoch 24/50\n",
            "625/625 [==============================] - 4s 7ms/step - loss: 0.0260 - accuracy: 0.9883 - val_loss: 1.5387 - val_accuracy: 0.7951\n",
            "Epoch 25/50\n",
            "625/625 [==============================] - 4s 7ms/step - loss: 0.0215 - accuracy: 0.9906 - val_loss: 1.7398 - val_accuracy: 0.7952\n",
            "Epoch 26/50\n",
            "625/625 [==============================] - 4s 7ms/step - loss: 0.0198 - accuracy: 0.9914 - val_loss: 1.7020 - val_accuracy: 0.7979\n",
            "Epoch 27/50\n",
            "625/625 [==============================] - 4s 7ms/step - loss: 0.0240 - accuracy: 0.9897 - val_loss: 1.7578 - val_accuracy: 0.7937\n",
            "Epoch 28/50\n",
            "625/625 [==============================] - 4s 7ms/step - loss: 0.0236 - accuracy: 0.9901 - val_loss: 1.7670 - val_accuracy: 0.7973\n",
            "Epoch 29/50\n",
            "625/625 [==============================] - 4s 7ms/step - loss: 0.0219 - accuracy: 0.9903 - val_loss: 1.7856 - val_accuracy: 0.7931\n",
            "Epoch 30/50\n",
            "625/625 [==============================] - 4s 7ms/step - loss: 0.0239 - accuracy: 0.9904 - val_loss: 1.8310 - val_accuracy: 0.7931\n",
            "Epoch 31/50\n",
            "625/625 [==============================] - 4s 7ms/step - loss: 0.0230 - accuracy: 0.9898 - val_loss: 1.8647 - val_accuracy: 0.7940\n",
            "Epoch 32/50\n",
            "625/625 [==============================] - 4s 7ms/step - loss: 0.0206 - accuracy: 0.9906 - val_loss: 1.8562 - val_accuracy: 0.7949\n",
            "Epoch 33/50\n",
            "625/625 [==============================] - 4s 7ms/step - loss: 0.0169 - accuracy: 0.9922 - val_loss: 2.0215 - val_accuracy: 0.8030\n",
            "Epoch 34/50\n",
            "625/625 [==============================] - 4s 7ms/step - loss: 0.0190 - accuracy: 0.9912 - val_loss: 1.9759 - val_accuracy: 0.7976\n",
            "Epoch 35/50\n",
            "625/625 [==============================] - 4s 7ms/step - loss: 0.0264 - accuracy: 0.9894 - val_loss: 1.9634 - val_accuracy: 0.7992\n",
            "Epoch 36/50\n",
            "625/625 [==============================] - 4s 7ms/step - loss: 0.0215 - accuracy: 0.9909 - val_loss: 1.9881 - val_accuracy: 0.7983\n",
            "Epoch 37/50\n",
            "625/625 [==============================] - 4s 7ms/step - loss: 0.0206 - accuracy: 0.9915 - val_loss: 1.9522 - val_accuracy: 0.7858\n",
            "Epoch 38/50\n",
            "625/625 [==============================] - 4s 7ms/step - loss: 0.0167 - accuracy: 0.9924 - val_loss: 2.0296 - val_accuracy: 0.7979\n",
            "Epoch 39/50\n",
            "625/625 [==============================] - 4s 7ms/step - loss: 0.0201 - accuracy: 0.9908 - val_loss: 2.2080 - val_accuracy: 0.7940\n",
            "Epoch 40/50\n",
            "625/625 [==============================] - 4s 7ms/step - loss: 0.0202 - accuracy: 0.9913 - val_loss: 2.0124 - val_accuracy: 0.7989\n",
            "Epoch 41/50\n",
            "625/625 [==============================] - 4s 7ms/step - loss: 0.0158 - accuracy: 0.9926 - val_loss: 2.0405 - val_accuracy: 0.7979\n",
            "Epoch 42/50\n",
            "625/625 [==============================] - 4s 7ms/step - loss: 0.0180 - accuracy: 0.9923 - val_loss: 2.3115 - val_accuracy: 0.7915\n",
            "Epoch 43/50\n",
            "625/625 [==============================] - 4s 7ms/step - loss: 0.0241 - accuracy: 0.9897 - val_loss: 2.0719 - val_accuracy: 0.7986\n",
            "Epoch 44/50\n",
            "625/625 [==============================] - 4s 7ms/step - loss: 0.0183 - accuracy: 0.9909 - val_loss: 2.1545 - val_accuracy: 0.7951\n",
            "Epoch 45/50\n",
            "625/625 [==============================] - 4s 7ms/step - loss: 0.0164 - accuracy: 0.9924 - val_loss: 2.2093 - val_accuracy: 0.7910\n",
            "Epoch 46/50\n",
            "625/625 [==============================] - 4s 7ms/step - loss: 0.0168 - accuracy: 0.9922 - val_loss: 2.2562 - val_accuracy: 0.7983\n",
            "Epoch 47/50\n",
            "625/625 [==============================] - 4s 7ms/step - loss: 0.0170 - accuracy: 0.9924 - val_loss: 2.3133 - val_accuracy: 0.7922\n",
            "Epoch 48/50\n",
            "625/625 [==============================] - 4s 7ms/step - loss: 0.0173 - accuracy: 0.9919 - val_loss: 2.3058 - val_accuracy: 0.7910\n",
            "Epoch 49/50\n",
            "625/625 [==============================] - 4s 7ms/step - loss: 0.0181 - accuracy: 0.9920 - val_loss: 2.2544 - val_accuracy: 0.7880\n",
            "Epoch 50/50\n",
            "625/625 [==============================] - 4s 7ms/step - loss: 0.0178 - accuracy: 0.9919 - val_loss: 2.3241 - val_accuracy: 0.7897\n"
          ],
          "name": "stdout"
        }
      ]
    },
    {
      "cell_type": "code",
      "metadata": {
        "colab_type": "code",
        "id": "g9DC6dmLF8DC",
        "colab": {
          "base_uri": "https://localhost:8080/",
          "height": 542
        },
        "outputId": "078a4809-d5d6-4bfd-fb6b-fd16bb22e490"
      },
      "source": [
        "import matplotlib.pyplot as plt\n",
        "\n",
        "\n",
        "def plot_graphs(history, string):\n",
        "  plt.plot(history.history[string])\n",
        "  plt.plot(history.history['val_'+string])\n",
        "  plt.xlabel(\"Epochs\")\n",
        "  plt.ylabel(string)\n",
        "  plt.legend([string, 'val_'+string])\n",
        "  plt.show()\n",
        "\n",
        "plot_graphs(history, 'accuracy')\n",
        "plot_graphs(history, 'loss')"
      ],
      "execution_count": 4,
      "outputs": [
        {
          "output_type": "display_data",
          "data": {
            "image/png": "[encoded data removed]",
            "text/plain": [
              "<Figure size 432x288 with 1 Axes>"
            ]
          },
          "metadata": {
            "tags": [],
            "needs_background": "light"
          }
        },
        {
          "output_type": "display_data",
          "data": {
            "image/png": "[encoded data removed]",
            "text/plain": [
              "<Figure size 432x288 with 1 Axes>"
            ]
          },
          "metadata": {
            "tags": [],
            "needs_background": "light"
          }
        }
      ]
    },
    {
      "cell_type": "code",
      "metadata": {
        "colab_type": "code",
        "id": "7ZEZIUppGhdi",
        "colab": {}
      },
      "source": [
        "model.save(\"test.h5\")"
      ],
      "execution_count": null,
      "outputs": []
    }
  ]
}